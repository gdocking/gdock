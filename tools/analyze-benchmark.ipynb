{
 "cells": [
  {
   "cell_type": "code",
   "execution_count": 1,
   "metadata": {},
   "outputs": [],
   "source": [
    "benchmark_path = '/Users/rodrigo/repos/gdock/benchmark'\n",
    "data_file = f'{benchmark_path}/benchmark_v1.0.0.dat'"
   ]
  },
  {
   "cell_type": "code",
   "execution_count": 2,
   "metadata": {},
   "outputs": [],
   "source": [
    "import glob\n",
    "import os\n",
    "import pandas as pd"
   ]
  },
  {
   "cell_type": "code",
   "execution_count": 3,
   "metadata": {
    "tags": []
   },
   "outputs": [
    {
     "name": "stdout",
     "output_type": "stream",
     "text": [
      "Data file found, reading /Users/rodrigo/repos/gdock/benchmark/benchmark_v1.0.0.dat\n"
     ]
    }
   ],
   "source": [
    "if not os.path.isfile(data_file):\n",
    "    print(f'Data file not found, reading from {benchmark_path}')\n",
    "    data = []\n",
    "    for target in [f for f in glob.glob(f'{benchmark_path}/*') if not '.' in f]:\n",
    "        name = target.split('/')[-1]\n",
    "        data_f = f'{benchmark_path}/{name}/run/analysis/gdock.dat'\n",
    "        if os.path.isfile(data_f):\n",
    "            with open(data_f) as fh:\n",
    "                for line in fh.readlines()[1:]:\n",
    "                    generation, model, fitness, irmsd, cluster_id, _ = line.split(',')\n",
    "                    data.append([name, int(generation), int(model), float(fitness), float(irmsd), float(cluster_id)])\n",
    "    df = pd.DataFrame(data, columns = ['target', 'generation','individual','fitness','irmsd','cluster_id'])\n",
    "    with open(data_file, 'w') as fh:\n",
    "        fh.write(df.to_csv(index=False))\n",
    "    fh.close()\n",
    "else:\n",
    "    print(f'Data file found, reading {data_file}')\n",
    "    df = pd.read_csv(data_file)"
   ]
  },
  {
   "cell_type": "code",
   "execution_count": 4,
   "metadata": {},
   "outputs": [
    {
     "data": {
      "text/html": [
       "<div>\n",
       "<style scoped>\n",
       "    .dataframe tbody tr th:only-of-type {\n",
       "        vertical-align: middle;\n",
       "    }\n",
       "\n",
       "    .dataframe tbody tr th {\n",
       "        vertical-align: top;\n",
       "    }\n",
       "\n",
       "    .dataframe thead th {\n",
       "        text-align: right;\n",
       "    }\n",
       "</style>\n",
       "<table border=\"1\" class=\"dataframe\">\n",
       "  <thead>\n",
       "    <tr style=\"text-align: right;\">\n",
       "      <th></th>\n",
       "      <th>target</th>\n",
       "      <th>generation</th>\n",
       "      <th>individual</th>\n",
       "      <th>fitness</th>\n",
       "      <th>irmsd</th>\n",
       "      <th>cluster_id</th>\n",
       "    </tr>\n",
       "  </thead>\n",
       "  <tbody>\n",
       "    <tr>\n",
       "      <th>0</th>\n",
       "      <td>2A9K</td>\n",
       "      <td>1</td>\n",
       "      <td>0</td>\n",
       "      <td>19.166</td>\n",
       "      <td>7.32</td>\n",
       "      <td>32.0</td>\n",
       "    </tr>\n",
       "    <tr>\n",
       "      <th>1</th>\n",
       "      <td>2A9K</td>\n",
       "      <td>1</td>\n",
       "      <td>1</td>\n",
       "      <td>41.281</td>\n",
       "      <td>18.72</td>\n",
       "      <td>NaN</td>\n",
       "    </tr>\n",
       "    <tr>\n",
       "      <th>2</th>\n",
       "      <td>2A9K</td>\n",
       "      <td>1</td>\n",
       "      <td>2</td>\n",
       "      <td>-6.214</td>\n",
       "      <td>18.18</td>\n",
       "      <td>1.0</td>\n",
       "    </tr>\n",
       "    <tr>\n",
       "      <th>3</th>\n",
       "      <td>2A9K</td>\n",
       "      <td>1</td>\n",
       "      <td>3</td>\n",
       "      <td>16.972</td>\n",
       "      <td>10.62</td>\n",
       "      <td>NaN</td>\n",
       "    </tr>\n",
       "    <tr>\n",
       "      <th>4</th>\n",
       "      <td>2A9K</td>\n",
       "      <td>1</td>\n",
       "      <td>4</td>\n",
       "      <td>18.558</td>\n",
       "      <td>14.46</td>\n",
       "      <td>NaN</td>\n",
       "    </tr>\n",
       "  </tbody>\n",
       "</table>\n",
       "</div>"
      ],
      "text/plain": [
       "  target  generation  individual  fitness  irmsd  cluster_id\n",
       "0   2A9K           1           0   19.166   7.32        32.0\n",
       "1   2A9K           1           1   41.281  18.72         NaN\n",
       "2   2A9K           1           2   -6.214  18.18         1.0\n",
       "3   2A9K           1           3   16.972  10.62         NaN\n",
       "4   2A9K           1           4   18.558  14.46         NaN"
      ]
     },
     "execution_count": 4,
     "metadata": {},
     "output_type": "execute_result"
    }
   ],
   "source": [
    "df.head()"
   ]
  },
  {
   "cell_type": "code",
   "execution_count": 5,
   "metadata": {},
   "outputs": [
    {
     "name": "stdout",
     "output_type": "stream",
     "text": [
      "top 1 {'high': 0, 'medium': 0, 'acceptable': 4}\n",
      "top 5 {'high': 0, 'medium': 0, 'acceptable': 6}\n",
      "top 10 {'high': 0, 'medium': 2, 'acceptable': 12}\n",
      "top 50 {'high': 0, 'medium': 2, 'acceptable': 26}\n",
      "top 200 {'high': 0, 'medium': 2, 'acceptable': 46}\n",
      "top 400 {'high': 0, 'medium': 3, 'acceptable': 51}\n",
      "top 1000 {'high': 0, 'medium': 3, 'acceptable': 60}\n",
      "total targets 227\n"
     ]
    }
   ],
   "source": [
    "# Single structure\n",
    "top_list = [1, 5, 10, 50, 200, 400, 1000]\n",
    "for top in top_list:\n",
    "    d = {'high': 0, 'medium': 0, 'acceptable': 0}\n",
    "    for target in df['target'].unique():\n",
    "        subdf = df[df['target'] == target].sort_values(by='fitness')\n",
    "        filtereddf = subdf.drop_duplicates(subset='fitness')\n",
    "        topdf = filtereddf[:top]\n",
    "        if (topdf['irmsd'] <= 1).sum():\n",
    "            d['high'] += 1\n",
    "        if (topdf['irmsd'] <= 2).sum():\n",
    "            d['medium'] += 1\n",
    "        if (topdf['irmsd'] <= 4).sum():\n",
    "            d['acceptable'] += 1\n",
    "\n",
    "    print('top', top, d)\n",
    "\n",
    "print('total targets', len(df['target'].unique()))"
   ]
  },
  {
   "cell_type": "code",
   "execution_count": 6,
   "metadata": {},
   "outputs": [
    {
     "name": "stdout",
     "output_type": "stream",
     "text": [
      "top 1 {'high': 0, 'medium': 0, 'acceptable': 4, 'incorrect': 221}\n",
      "top 3 {'high': 0, 'medium': 1, 'acceptable': 8, 'incorrect': 218}\n",
      "top 5 {'high': 0, 'medium': 1, 'acceptable': 9, 'incorrect': 217}\n",
      "top 10 {'high': 0, 'medium': 1, 'acceptable': 14, 'incorrect': 212}\n",
      "total targets 227\n"
     ]
    }
   ],
   "source": [
    "top_cluster_range = [1, 3, 5, 10]\n",
    "\n",
    "for top in top_cluster_range:\n",
    "    d = {'high': 0, 'medium': 0, 'acceptable': 0, 'incorrect': 0}\n",
    "    for target in df['target'].unique():\n",
    "        c_df = df[df['target'] == target].sort_values(['fitness', 'cluster_id'])\n",
    "        c_df = c_df.dropna()\n",
    "        c_ranking = c_df.drop_duplicates(subset='cluster_id', keep='first')\n",
    "        cluster_ranking_dic = dict((i+1, j) for i, j in enumerate(c_ranking['cluster_id']) if i+1 <= top)\n",
    "        \n",
    "        high_l = []\n",
    "        medium_l = []\n",
    "        acceptable_l = []\n",
    "        incorrect_l = []\n",
    "        for cluster in cluster_ranking_dic:\n",
    "            topdf = c_df[c_df['cluster_id'] == cluster][:5]\n",
    "            if (topdf['irmsd'] <= 1).sum():\n",
    "                high_l.append(1)\n",
    "            if (topdf['irmsd'] <= 2).sum():\n",
    "                medium_l.append(1)\n",
    "            if (topdf['irmsd'] <= 4).sum():\n",
    "                acceptable_l.append(1)\n",
    "            elif (topdf['irmsd'] > 4).sum():\n",
    "                incorrect_l.append(1)\n",
    "        \n",
    "        if high_l:\n",
    "            d['high'] += 1\n",
    "        if medium_l:\n",
    "            d['medium'] += 1\n",
    "        if acceptable_l:\n",
    "            d['acceptable'] += 1\n",
    "        elif incorrect_l:\n",
    "            d['incorrect'] += 1\n",
    "    print('top', top, d)\n",
    "            \n",
    "print('total targets', len(df['target'].unique()))"
   ]
  }
 ],
 "metadata": {
  "kernelspec": {
   "display_name": "Python 3",
   "language": "python",
   "name": "python3"
  },
  "language_info": {
   "codemirror_mode": {
    "name": "ipython",
    "version": 3
   },
   "file_extension": ".py",
   "mimetype": "text/x-python",
   "name": "python",
   "nbconvert_exporter": "python",
   "pygments_lexer": "ipython3",
   "version": "3.8.5"
  }
 },
 "nbformat": 4,
 "nbformat_minor": 2
}
