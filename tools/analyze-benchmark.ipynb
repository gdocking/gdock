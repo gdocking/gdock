{
 "metadata": {
  "language_info": {
   "codemirror_mode": {
    "name": "ipython",
    "version": 3
   },
   "file_extension": ".py",
   "mimetype": "text/x-python",
   "name": "python",
   "nbconvert_exporter": "python",
   "pygments_lexer": "ipython3",
   "version": "3.8.5-final"
  },
  "orig_nbformat": 2,
  "kernelspec": {
   "name": "python3",
   "display_name": "Python 3"
  }
 },
 "nbformat": 4,
 "nbformat_minor": 2,
 "cells": [
  {
   "cell_type": "code",
   "execution_count": null,
   "metadata": {},
   "outputs": [],
   "source": [
    "benchmark_path = '/Users/rodrigo/repos/gdock/benchmark'"
   ]
  },
  {
   "cell_type": "code",
   "execution_count": null,
   "metadata": {},
   "outputs": [],
   "source": [
    "import glob\n",
    "import os\n",
    "import pandas as pd"
   ]
  },
  {
   "cell_type": "code",
   "execution_count": null,
   "metadata": {
    "tags": []
   },
   "outputs": [],
   "source": [
    "data = []\n",
    "for target in [f for f in glob.glob(f'{benchmark_path}/*') if not '.' in f]:\n",
    "    name = target.split('/')[-1]\n",
    "    data_f = f'{benchmark_path}/{name}/run/analysis/gdock.dat'\n",
    "    if os.path.isfile(data_f):\n",
    "        with open(data_f) as fh:\n",
    "            for line in fh.readlines()[1:]:\n",
    "                generation, model, fitness, irmsd = line.split(',')\n",
    "                data.append([name, int(generation), int(model), float(fitness), float(irmsd)])\n",
    "df = pd.DataFrame(data, columns = ['target', 'generation', 'model', 'fitness', 'irmsd'])"
   ]
  },
  {
   "cell_type": "code",
   "execution_count": null,
   "metadata": {},
   "outputs": [],
   "source": [
    "df"
   ]
  },
  {
   "cell_type": "code",
   "execution_count": null,
   "metadata": {},
   "outputs": [],
   "source": [
    "# get stars\n",
    "top_list = [1, 5, 10, 15]\n",
    "for top in top_list:\n",
    "    d = {'high': 0, 'medium': 0, 'low': 0, 'incorrect': 0}\n",
    "    for target in df['target'].unique():\n",
    "        subdf = df[df['target'] == target].sort_values(by='fitness')\n",
    "        filtereddf = subdf.drop_duplicates(subset='fitness')\n",
    "        topdf = filtereddf[:top]\n",
    "        if (topdf['irmsd'] <= 1).sum():\n",
    "            d['high'] += 1\n",
    "        if (topdf['irmsd'] <= 2).sum():\n",
    "            d['medium'] += 1\n",
    "        if (topdf['irmsd'] <= 4).sum():\n",
    "            d['low'] += 1\n",
    "        elif (topdf['irmsd'] > 4).sum():\n",
    "            d['incorrect'] += 1\n",
    "    print('top', top, d)\n"
   ]
  }
 ]
}